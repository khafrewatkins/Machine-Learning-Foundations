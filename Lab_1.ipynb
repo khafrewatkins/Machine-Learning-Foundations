{
  "nbformat": 4,
  "nbformat_minor": 0,
  "metadata": {
    "colab": {
      "provenance": [],
      "authorship_tag": "ABX9TyOl3LADU0ZZCd/kFFMUSPSK",
      "include_colab_link": true
    },
    "kernelspec": {
      "name": "python3",
      "display_name": "Python 3"
    },
    "language_info": {
      "name": "python"
    }
  },
  "cells": [
    {
      "cell_type": "markdown",
      "metadata": {
        "id": "view-in-github",
        "colab_type": "text"
      },
      "source": [
        "<a href=\"https://colab.research.google.com/github/khafrewatkins/Machine-Learning-Foundations/blob/main/Lab_1.ipynb\" target=\"_parent\"><img src=\"https://colab.research.google.com/assets/colab-badge.svg\" alt=\"Open In Colab\"/></a>"
      ]
    },
    {
      "cell_type": "code",
      "execution_count": null,
      "metadata": {
        "colab": {
          "base_uri": "https://localhost:8080/"
        },
        "id": "PduSq2g3W1Jy",
        "outputId": "ff8d7828-a666-4ce8-860a-7184f82a6b86"
      },
      "outputs": [
        {
          "output_type": "stream",
          "name": "stdout",
          "text": [
            "[17, 15, 4]\n",
            "[10, 12, 9]\n",
            "[11, 13, 18]\n"
          ]
        }
      ],
      "source": [
        "def matrix_add(A, B):\n",
        "    rows_A, cols_A = len(A), len(A[0])\n",
        "    rows_B, cols_B = len(B), len(B[0])\n",
        "    rest = [[0 for _ in range(cols_A)] for _ in range(rows_B)]\n",
        "    # CODE HERE to complete the matrix_add function\n",
        "    for i in range(rows_A):\n",
        "      for j in range(cols_A):\n",
        "        rest[i][j] = A[i][j] + B[i][j]\n",
        "\n",
        "    return rest\n",
        "\n",
        "\n",
        "X = [[12,7,3],\n",
        "    [4 ,5,6],\n",
        "    [7 ,8,9]]\n",
        "\n",
        "Y = [[5,8,1],\n",
        "    [6,7,3],\n",
        "    [4,5,9]]\n",
        "res = matrix_add(X, Y)\n",
        "for r in res:\n",
        "    print(r)\n"
      ]
    },
    {
      "cell_type": "code",
      "source": [
        "def matrix_subtraction(A, B):\n",
        "    rows_A, cols_A = len(A), len(A[0])\n",
        "    rows_B, cols_B = len(B), len(B[0])\n",
        "    rest = [[0 for _ in range(cols_A)] for _ in range(rows_B)]\n",
        "    # CODE HERE to complete the matrix_add function\n",
        "    for i in range(rows_A):\n",
        "      for j in range(cols_A):\n",
        "        rest[i][j] = A[i][j] - B[i][j]\n",
        "\n",
        "    return rest\n",
        "\n",
        "# Test your code using the following code in the main function.\n",
        "X = [[12,7,3],\n",
        "    [4 ,5,6],\n",
        "    [7 ,8,9]]\n",
        "\n",
        "Y = [[5,8,1],\n",
        "    [6,7,3],\n",
        "    [4,5,9]]\n",
        "res = matrix_subtraction(X, Y)\n",
        "for r in res:\n",
        "    print(r)\n"
      ],
      "metadata": {
        "colab": {
          "base_uri": "https://localhost:8080/"
        },
        "id": "aahk2mSLckp3",
        "outputId": "db6c33ea-f9e1-4c17-f413-0138c249eff7"
      },
      "execution_count": null,
      "outputs": [
        {
          "output_type": "stream",
          "name": "stdout",
          "text": [
            "[7, -1, 2]\n",
            "[-2, -2, 3]\n",
            "[3, 3, 0]\n"
          ]
        }
      ]
    },
    {
      "cell_type": "code",
      "source": [
        "def matrix_mult(A, B):\n",
        "    # Get the dimensions of the matrices\n",
        "    rows_A, cols_A = len(A), len(A[0])\n",
        "    rows_B, cols_B = len(B), len(B[0])\n",
        "\n",
        "    # Create the result matrix\n",
        "    rest = [[0 for _ in range(cols_B)] for _ in range(rows_A)]\n",
        "\n",
        "    # CODE HERE to complete the matrix multiplication function\n",
        "    if cols_A != rows_B:\n",
        "      print(\"Dimensions Not Match!\")\n",
        "      return None\n",
        "    else:\n",
        "\n",
        "      for i in range(rows_A):\n",
        "        for j in range(cols_B):\n",
        "          for k in range(cols_A):\n",
        "            rest[i][j] += A[i][k] * B[k][j]\n",
        "\n",
        "      return rest\n",
        "\n",
        "\n",
        "A = [[1, 7, 3],\n",
        "     [3, 5, 6],\n",
        "     [6, 8, 9]]\n",
        "B = [[1, 1, 1, 2],\n",
        "     [6, 7, 3, 0],\n",
        "     [4, 5, 9, 1]]\n",
        "res = matrix_mult(A, B)\n",
        "for r in res:\n",
        "    print(r)"
      ],
      "metadata": {
        "colab": {
          "base_uri": "https://localhost:8080/"
        },
        "id": "RjZ0THElh1TI",
        "outputId": "cb09a6bc-4178-4119-c3a3-077eb173d1ff"
      },
      "execution_count": null,
      "outputs": [
        {
          "output_type": "stream",
          "name": "stdout",
          "text": [
            "[55, 65, 49, 5]\n",
            "[57, 68, 72, 12]\n",
            "[90, 107, 111, 21]\n"
          ]
        }
      ]
    },
    {
      "cell_type": "code",
      "source": [
        "def transpose_matrix(matrix):\n",
        "    # Returns the transpose of a matrix\n",
        "    return list(map(list, zip(*matrix)))\n",
        "\n",
        "def minor(matrix, i, j):\n",
        "    # Returns the minor of the matrix after removing row i and column j\n",
        "    return [row[:j]+row[j+1:] for row in (matrix[:i]+matrix[i+1:])]\n",
        "\n",
        "def determinant(matrix):\n",
        "    # Recursive function to calculate the determinant of a matrix\n",
        "    if len(matrix) == 1:\n",
        "        return matrix[0][0]\n",
        "    det = 0\n",
        "    for j in range(len(matrix)):\n",
        "        det += ((-1)**j)*matrix[0][j]*determinant(minor(matrix, 0, j))\n",
        "    return det\n",
        "\n",
        "def inverse_matrix(matrix):\n",
        "    n = len(matrix)\n",
        "    det_A = determinant(matrix)\n",
        "    if det_A == 0:\n",
        "        print(\"Matrix is not invertible (determinant is zero).\")\n",
        "        exit()\n",
        "    adjoint = []\n",
        "    for i in range(n):\n",
        "        row = []\n",
        "        for j in range(n):\n",
        "            cofactor = ((-1)**(i+j))*determinant(minor(matrix, i, j))\n",
        "            row.append(cofactor / det_A)\n",
        "        adjoint.append(row)\n",
        "    return transpose_matrix(adjoint)\n",
        "\n",
        "A = [[4, 4],\n",
        "     [2, -4]]\n",
        "\n",
        "B = [[5],\n",
        "     [1]]\n",
        "inv_A = inverse_matrix(A)\n",
        "x = matrix_mult(inv_A, B)\n",
        "# print(x)\n",
        "print(\"x1 = \", x[0][0])\n",
        "print(\"x2 = \", x[1][0])\n",
        "\n"
      ],
      "metadata": {
        "id": "qzww6_uHkRuq",
        "colab": {
          "base_uri": "https://localhost:8080/"
        },
        "outputId": "45af69e2-ac7f-45e7-d27a-5118d106c109"
      },
      "execution_count": null,
      "outputs": [
        {
          "output_type": "stream",
          "name": "stdout",
          "text": [
            "x1 =  0.9999999999999999\n",
            "x2 =  0.24999999999999997\n"
          ]
        }
      ]
    }
  ]
}